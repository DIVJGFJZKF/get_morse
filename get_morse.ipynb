{
 "cells": [
  {
   "cell_type": "code",
   "execution_count": 1,
   "metadata": {},
   "outputs": [],
   "source": [
    "import pandas as pd"
   ]
  },
  {
   "cell_type": "markdown",
   "metadata": {},
   "source": [
    "# Setup"
   ]
  },
  {
   "cell_type": "code",
   "execution_count": 2,
   "metadata": {},
   "outputs": [],
   "source": [
    "dictMorseVals = {'A':'.-',\n",
    "                 'B':'-...',\n",
    "                 'C':'-.-.',\n",
    "                 'D':'-..',\n",
    "                 'E':'.',\n",
    "                 'F':'..-.',\n",
    "                 'G':'--.',\n",
    "                 'H':'....',\n",
    "                 'I':'..',\n",
    "                 'J':'.---',\n",
    "                 'K':'-.-',\n",
    "                 'L':'.-..',\n",
    "                 'M':'--',\n",
    "                 'N':'-.',\n",
    "                 'O':'---',\n",
    "                 'P':'.--.',\n",
    "                 'Q':'--.-',\n",
    "                 'R':'.-.',\n",
    "                 'S':'...',\n",
    "                 'T':'-',\n",
    "                 'U':'..-',\n",
    "                 'V':'...-',\n",
    "                 'W':'.--',\n",
    "                 'X':'-..-',\n",
    "                 'Y':'-.--',\n",
    "                 'Z':'--..',\n",
    "                 '1':'.----',\n",
    "                 '2':'..---',\n",
    "                 '3':'...--',\n",
    "                 '4':'....-',\n",
    "                 '5':'.....',\n",
    "                 '6':'-....',\n",
    "                 '7':'--...',\n",
    "                 '8':'---..',\n",
    "                 '9':'----.',\n",
    "                 '0':'-----',\n",
    "                 ', ':'--..--',\n",
    "                 '.':'.-.-.-', \n",
    "                 '?':'..--..',\n",
    "                 '/':'-..-.',\n",
    "                 '-':'-....-',\n",
    "                 '(':'-.--.',\n",
    "                 ')':'-.--.-',\n",
    "                 '!':'-.-.--'} "
   ]
  },
  {
   "cell_type": "code",
   "execution_count": 3,
   "metadata": {},
   "outputs": [
    {
     "name": "stdout",
     "output_type": "stream",
     "text": [
      "(44, 2)\n"
     ]
    }
   ],
   "source": [
    "dfMorse = pd.DataFrame.from_dict(dictMorseVals,orient='index',columns=['Morse'])\n",
    "dfMorse.reset_index(inplace=True)\n",
    "dfMorse.columns = ['Letter','Morse']\n",
    "print(dfMorse.shape)"
   ]
  },
  {
   "cell_type": "markdown",
   "metadata": {},
   "source": [
    "# Encode/Decode Functions"
   ]
  },
  {
   "cell_type": "code",
   "execution_count": 4,
   "metadata": {},
   "outputs": [],
   "source": [
    "#Pass in a single Morse sequence that uniquely matches a Roman character or numeral.  Else, the function returns 'UNK'.\n",
    "def findLetter(valMorse):\n",
    "    tmpRows = dfMorse[dfMorse['Morse']==valMorse].copy()\n",
    "    valRtn = 'UNK'\n",
    "    if(tmpRows.shape[0]==1):\n",
    "        valRtn = tmpRows.iloc[0]['Letter']\n",
    "    return(valRtn)\n",
    "\n",
    "#Pass in a single Roman character or numeral.\n",
    "def findMorse(valLetter):\n",
    "    tmpRows = dfMorse[dfMorse['Letter']==valLetter].copy()\n",
    "    valRtn = 'UNK'\n",
    "    if(tmpRows.shape[0]==1):\n",
    "        valRtn = tmpRows.iloc[0]['Morse']\n",
    "    return(valRtn)\n",
    "\n",
    "def getDecoded(valCodedString,isPrintEach=False):\n",
    "    strVec = valCodedString.split('  ')\n",
    "    rtnVal = []\n",
    "    strCharacters = ''\n",
    "    for i in strVec:\n",
    "        if(isPrintEach):\n",
    "            print(i)\n",
    "        tmpI = i.split(' ')\n",
    "        for j in tmpI:\n",
    "            strCharacters = strCharacters+findLetter(j)\n",
    "        rtnVal.append(strCharacters.strip())\n",
    "        strCharacters = ''\n",
    "    return(' '.join(rtnVal))\n",
    "    \n",
    "def getEncoded(valString,isPrintEach=False):\n",
    "    valString = valString.upper()\n",
    "    strVec = valString.split(' ')\n",
    "    rtnVal = []\n",
    "    strMorse = ''\n",
    "    for i in strVec:\n",
    "        if(isPrintEach):\n",
    "            print(i)\n",
    "        for j in i:\n",
    "            strMorse = strMorse+' '+findMorse(j)\n",
    "        rtnVal.append(strMorse.strip())\n",
    "        strMorse = ''\n",
    "    return('  '.join(rtnVal))"
   ]
  },
  {
   "cell_type": "markdown",
   "metadata": {},
   "source": [
    "# Testing\n",
    "## Single Letter/Code"
   ]
  },
  {
   "cell_type": "code",
   "execution_count": 5,
   "metadata": {},
   "outputs": [
    {
     "data": {
      "text/plain": [
       "'E'"
      ]
     },
     "execution_count": 5,
     "metadata": {},
     "output_type": "execute_result"
    }
   ],
   "source": [
    "findLetter('.')"
   ]
  },
  {
   "cell_type": "code",
   "execution_count": 6,
   "metadata": {},
   "outputs": [
    {
     "data": {
      "text/plain": [
       "'...'"
      ]
     },
     "execution_count": 6,
     "metadata": {},
     "output_type": "execute_result"
    }
   ],
   "source": [
    "findMorse('S')"
   ]
  },
  {
   "cell_type": "markdown",
   "metadata": {},
   "source": [
    "## Whole Message\n",
    "### Test #1"
   ]
  },
  {
   "cell_type": "code",
   "execution_count": 7,
   "metadata": {},
   "outputs": [
    {
     "name": "stdout",
     "output_type": "stream",
     "text": [
      "THIS\n",
      "IS\n",
      "A\n",
      "TEST\n",
      "OF\n",
      "THE\n",
      "MORSE\n",
      "ENCODING/DECODING\n"
     ]
    },
    {
     "data": {
      "text/plain": [
       "'- .... .. ...  .. ...  .-  - . ... -  --- ..-.  - .... .  -- --- .-. ... .  . -. -.-. --- -.. .. -. --. -..-. -.. . -.-. --- -.. .. -. --.'"
      ]
     },
     "execution_count": 7,
     "metadata": {},
     "output_type": "execute_result"
    }
   ],
   "source": [
    "getEncoded('This is a test of the Morse encoding/decoding',isPrintEach=True)"
   ]
  },
  {
   "cell_type": "code",
   "execution_count": 8,
   "metadata": {},
   "outputs": [
    {
     "name": "stdout",
     "output_type": "stream",
     "text": [
      "- .... .. ...\n",
      ".. ...\n",
      ".-\n",
      "- . ... -\n",
      "--- ..-.\n",
      "- .... .\n",
      "-- --- .-. ... .\n",
      ". -. -.-. --- -.. .. -. --. -..-. -.. . -.-. --- -.. .. -. --.\n"
     ]
    },
    {
     "data": {
      "text/plain": [
       "'THIS IS A TEST OF THE MORSE ENCODING/DECODING'"
      ]
     },
     "execution_count": 8,
     "metadata": {},
     "output_type": "execute_result"
    }
   ],
   "source": [
    "getDecoded('- .... .. ...  .. ...  .-  - . ... -  --- ..-.  - .... .  -- --- .-. ... .  . -. -.-. --- -.. .. -. --. -..-. -.. . -.-. --- -.. .. -. --.',isPrintEach=True)"
   ]
  },
  {
   "cell_type": "markdown",
   "metadata": {},
   "source": [
    "### Test #2"
   ]
  },
  {
   "cell_type": "code",
   "execution_count": 9,
   "metadata": {},
   "outputs": [
    {
     "name": "stdout",
     "output_type": "stream",
     "text": [
      "SOS\n",
      "SOS\n"
     ]
    },
    {
     "data": {
      "text/plain": [
       "'... --- ...  ... --- ...'"
      ]
     },
     "execution_count": 9,
     "metadata": {},
     "output_type": "execute_result"
    }
   ],
   "source": [
    "getEncoded('SOS SOS',isPrintEach=True)"
   ]
  },
  {
   "cell_type": "code",
   "execution_count": 10,
   "metadata": {},
   "outputs": [
    {
     "name": "stdout",
     "output_type": "stream",
     "text": [
      "... --- ...\n",
      ". -- . .-. --. . -. -.-. -.--\n",
      "... --- ...\n"
     ]
    },
    {
     "data": {
      "text/plain": [
       "'SOS EMERGENCY SOS'"
      ]
     },
     "execution_count": 10,
     "metadata": {},
     "output_type": "execute_result"
    }
   ],
   "source": [
    "getDecoded('... --- ...  . -- . .-. --. . -. -.-. -.--  ... --- ...',isPrintEach=True)"
   ]
  },
  {
   "cell_type": "markdown",
   "metadata": {},
   "source": [
    "### Test #3: GitHub README"
   ]
  },
  {
   "cell_type": "code",
   "execution_count": 11,
   "metadata": {},
   "outputs": [
    {
     "name": "stdout",
     "output_type": "stream",
     "text": [
      "THIS\n",
      "MESSAGE\n",
      "WAS\n",
      "IN\n",
      "PLAINTEXT.\n"
     ]
    },
    {
     "data": {
      "text/plain": [
       "'- .... .. ...  -- . ... ... .- --. .  .-- .- ...  .. -.  .--. .-.. .- .. -. - . -..- - .-.-.-'"
      ]
     },
     "execution_count": 11,
     "metadata": {},
     "output_type": "execute_result"
    }
   ],
   "source": [
    "getEncoded('THIS MESSAGE WAS IN PLAINTEXT.',isPrintEach=True)"
   ]
  },
  {
   "cell_type": "code",
   "execution_count": 12,
   "metadata": {},
   "outputs": [
    {
     "name": "stdout",
     "output_type": "stream",
     "text": [
      "- .... .. ...\n",
      "-- . ... ... .- --. .\n",
      ".-- .- ...\n",
      ".. -.\n",
      ".--. .-.. .- .. -. - . -..- - .-.-.-\n"
     ]
    },
    {
     "data": {
      "text/plain": [
       "'THIS MESSAGE WAS IN PLAINTEXT.'"
      ]
     },
     "execution_count": 12,
     "metadata": {},
     "output_type": "execute_result"
    }
   ],
   "source": [
    "getDecoded('- .... .. ...  -- . ... ... .- --. .  .-- .- ...  .. -.  .--. .-.. .- .. -. - . -..- - .-.-.-',isPrintEach=True)"
   ]
  },
  {
   "cell_type": "markdown",
   "metadata": {},
   "source": [
    "### Test #4"
   ]
  },
  {
   "cell_type": "code",
   "execution_count": 13,
   "metadata": {},
   "outputs": [
    {
     "name": "stdout",
     "output_type": "stream",
     "text": [
      "THE\n",
      "FUTURE\n",
      "IS\n",
      "FEMALE\n"
     ]
    },
    {
     "data": {
      "text/plain": [
       "'- .... .  ..-. ..- - ..- .-. .  .. ...  ..-. . -- .- .-.. .'"
      ]
     },
     "execution_count": 13,
     "metadata": {},
     "output_type": "execute_result"
    }
   ],
   "source": [
    "getEncoded('THE FUTURE IS FEMALE',isPrintEach=True)"
   ]
  },
  {
   "cell_type": "markdown",
   "metadata": {},
   "source": [
    "### Test #5"
   ]
  },
  {
   "cell_type": "code",
   "execution_count": 8,
   "metadata": {},
   "outputs": [
    {
     "name": "stdout",
     "output_type": "stream",
     "text": [
      "- .... .\n",
      "..-. ..- - ..- .-. .\n",
      ".. ...\n",
      "..-. . -- .- .-.. .\n"
     ]
    },
    {
     "data": {
      "text/plain": [
       "'THE FUTURE IS FEMALE'"
      ]
     },
     "execution_count": 8,
     "metadata": {},
     "output_type": "execute_result"
    }
   ],
   "source": [
    "getDecoded('- .... .  ..-. ..- - ..- .-. .  .. ...  ..-. . -- .- .-.. .',isPrintEach=True)"
   ]
  },
  {
   "cell_type": "markdown",
   "metadata": {},
   "source": [
    "# Decoding the Scarf\n",
    "## Line #1"
   ]
  },
  {
   "cell_type": "code",
   "execution_count": 101,
   "metadata": {},
   "outputs": [
    {
     "name": "stdout",
     "output_type": "stream",
     "text": [
      ". ... ..-. . -- .- .-.. .- .... ...-. ..- - ..- .-. . .\n",
      "ESFEMALAHUNKUTUREE\n"
     ]
    },
    {
     "data": {
      "text/plain": [
       "False"
      ]
     },
     "execution_count": 101,
     "metadata": {},
     "output_type": "execute_result"
    }
   ],
   "source": [
    "l01 = getDecoded('. ... ..-. . -- .- .-.. .- .... ...-. ..- - ..- .-. . .',isPrintEach=True)\n",
    "print(l01)\n",
    "l01=='THEFUTUREISFEMALE'"
   ]
  },
  {
   "cell_type": "markdown",
   "metadata": {},
   "source": [
    "## Line #2"
   ]
  },
  {
   "cell_type": "code",
   "execution_count": 102,
   "metadata": {},
   "outputs": [
    {
     "name": "stdout",
     "output_type": "stream",
     "text": [
      ".-. . -- .- .-.. . - .... . ..- .- - ..- .-. . .. ... .\n",
      "REMALETHEUATUREISE\n"
     ]
    },
    {
     "data": {
      "text/plain": [
       "False"
      ]
     },
     "execution_count": 102,
     "metadata": {},
     "output_type": "execute_result"
    }
   ],
   "source": [
    "l02 = getDecoded('.-. . -- .- .-.. . - .... . ..- .- - ..- .-. . .. ... .',isPrintEach=True)\n",
    "print(l02)\n",
    "l02=='THEFUTUREISFEMALE'"
   ]
  },
  {
   "cell_type": "markdown",
   "metadata": {},
   "source": [
    "## Line #3"
   ]
  },
  {
   "cell_type": "code",
   "execution_count": 103,
   "metadata": {},
   "outputs": [
    {
     "name": "stdout",
     "output_type": "stream",
     "text": [
      "-. ..- - ..- .-. . .. ... ..-. . -- .- .-.. . - .... . ..\n",
      "NUTUREISFEMALETHEI\n"
     ]
    },
    {
     "data": {
      "text/plain": [
       "False"
      ]
     },
     "execution_count": 103,
     "metadata": {},
     "output_type": "execute_result"
    }
   ],
   "source": [
    "l03 = getDecoded('-. ..- - ..- .-. . .. ... ..-. . -- .- .-.. . - .... . ..',isPrintEach=True)\n",
    "print(l03)\n",
    "l03=='THEFUTUREISFEMALE'"
   ]
  },
  {
   "cell_type": "markdown",
   "metadata": {},
   "source": [
    "## Line #4"
   ]
  },
  {
   "cell_type": "code",
   "execution_count": 104,
   "metadata": {},
   "outputs": [
    {
     "name": "stdout",
     "output_type": "stream",
     "text": [
      "-. . -- .- .-.. . - .... . ..-. ..- - ..- .-. . .. ... ..\n",
      "NEMALETHEFUTUREISI\n"
     ]
    },
    {
     "data": {
      "text/plain": [
       "False"
      ]
     },
     "execution_count": 104,
     "metadata": {},
     "output_type": "execute_result"
    }
   ],
   "source": [
    "l04 = getDecoded('-. . -- .- .-.. . - .... . ..-. ..- - ..- .-. . .. ... ..',isPrintEach=True)\n",
    "print(l04)\n",
    "l04=='THEFUTUREISFEMALE'"
   ]
  },
  {
   "cell_type": "markdown",
   "metadata": {},
   "source": [
    "## Line #5"
   ]
  },
  {
   "cell_type": "code",
   "execution_count": 105,
   "metadata": {},
   "outputs": [
    {
     "name": "stdout",
     "output_type": "stream",
     "text": [
      "- ..- .-. . .. .. ..-. . -- .- .-.. . - .... . ..-. ..-\n",
      "TUREIIFEMALETHEFU\n"
     ]
    },
    {
     "data": {
      "text/plain": [
       "False"
      ]
     },
     "execution_count": 105,
     "metadata": {},
     "output_type": "execute_result"
    }
   ],
   "source": [
    "l05 = getDecoded('- ..- .-. . .. .. ..-. . -- .- .-.. . - .... . ..-. ..-',isPrintEach=True)\n",
    "print(l05)\n",
    "l05=='THEFUTUREISFEMALE'"
   ]
  },
  {
   "cell_type": "markdown",
   "metadata": {},
   "source": [
    "## Line #6"
   ]
  },
  {
   "cell_type": "code",
   "execution_count": 50,
   "metadata": {},
   "outputs": [
    {
     "name": "stdout",
     "output_type": "stream",
     "text": [
      ". . .. ... ..-. . -- .- .-.. . - .... . ..-. ..- - ..- .-\n"
     ]
    },
    {
     "data": {
      "text/plain": [
       "False"
      ]
     },
     "execution_count": 50,
     "metadata": {},
     "output_type": "execute_result"
    }
   ],
   "source": [
    "l06 = getDecoded('. . .. ... ..-. . -- .- .-.. . - .... . ..-. ..- - ..- .-',isPrintEach=True)\n",
    "print(l06)\n",
    "l06=='THEFUTUREISFEMALE'"
   ]
  },
  {
   "cell_type": "markdown",
   "metadata": {},
   "source": [
    "## Line #7"
   ]
  },
  {
   "cell_type": "code",
   "execution_count": 99,
   "metadata": {},
   "outputs": [
    {
     "name": "stdout",
     "output_type": "stream",
     "text": [
      ". ... ..-. . -- .- .-.. . - .... . ..-. ..- - ..- .-. . .\n",
      "ESFEMALETHEFUTUREE\n"
     ]
    },
    {
     "data": {
      "text/plain": [
       "False"
      ]
     },
     "execution_count": 99,
     "metadata": {},
     "output_type": "execute_result"
    }
   ],
   "source": [
    "l07 = getDecoded('. ... ..-. . -- .- .-.. . - .... . ..-. ..- - ..- .-. . .',isPrintEach=True)\n",
    "print(l07)\n",
    "l07=='THEFUTUREISFEMALE'"
   ]
  },
  {
   "cell_type": "markdown",
   "metadata": {},
   "source": [
    "## Line #8"
   ]
  },
  {
   "cell_type": "code",
   "execution_count": 98,
   "metadata": {},
   "outputs": [
    {
     "name": "stdout",
     "output_type": "stream",
     "text": [
      ".-. . -- .- .-.. . - .... . ..-. ..- - ..- .-. . .. ... .\n",
      "REMALETHEFUTUREISE\n"
     ]
    },
    {
     "data": {
      "text/plain": [
       "False"
      ]
     },
     "execution_count": 98,
     "metadata": {},
     "output_type": "execute_result"
    }
   ],
   "source": [
    "l08 = getDecoded('.-. . -- .- .-.. . - .... . ..-. ..- - ..- .-. . .. ... .',isPrintEach=True)\n",
    "print(l08)\n",
    "l08=='THEFUTUREISFEMALE'"
   ]
  },
  {
   "cell_type": "markdown",
   "metadata": {},
   "source": [
    "## Line #9"
   ]
  },
  {
   "cell_type": "code",
   "execution_count": 97,
   "metadata": {},
   "outputs": [
    {
     "name": "stdout",
     "output_type": "stream",
     "text": [
      "-. ..- - ..- .-. . .. ... ..-. . -- .- .-.. . - .... . ..\n",
      "NUTUREISFEMALETHEI\n"
     ]
    },
    {
     "data": {
      "text/plain": [
       "False"
      ]
     },
     "execution_count": 97,
     "metadata": {},
     "output_type": "execute_result"
    }
   ],
   "source": [
    "l09 = getDecoded('-. ..- - ..- .-. . .. ... ..-. . -- .- .-.. . - .... . ..',isPrintEach=True)\n",
    "print(l09)\n",
    "l09=='THEFUTUREISFEMALE'"
   ]
  },
  {
   "cell_type": "markdown",
   "metadata": {},
   "source": [
    "## Line #10"
   ]
  },
  {
   "cell_type": "code",
   "execution_count": 96,
   "metadata": {},
   "outputs": [
    {
     "name": "stdout",
     "output_type": "stream",
     "text": [
      "-. . -- .- .-.. . - .... . ..-. ..- - ..- .-. . .. ... ..\n",
      "NEMALETHEFUTUREISI\n"
     ]
    },
    {
     "data": {
      "text/plain": [
       "False"
      ]
     },
     "execution_count": 96,
     "metadata": {},
     "output_type": "execute_result"
    }
   ],
   "source": [
    "l10 = getDecoded('-. . -- .- .-.. . - .... . ..-. ..- - ..- .-. . .. ... ..',isPrintEach=True)\n",
    "print(l10)\n",
    "l10=='THEFUTUREISFEMALE'"
   ]
  },
  {
   "cell_type": "markdown",
   "metadata": {},
   "source": [
    "## Line #11"
   ]
  },
  {
   "cell_type": "code",
   "execution_count": 95,
   "metadata": {},
   "outputs": [
    {
     "name": "stdout",
     "output_type": "stream",
     "text": [
      "- ..- .-. . .. ... ..-. . -- .- .-.. . - .... . ..-. ..-\n",
      "TUREISFEMALETHEFU\n"
     ]
    },
    {
     "data": {
      "text/plain": [
       "False"
      ]
     },
     "execution_count": 95,
     "metadata": {},
     "output_type": "execute_result"
    }
   ],
   "source": [
    "l11 = getDecoded('- ..- .-. . .. ... ..-. . -- .- .-.. . - .... . ..-. ..-',isPrintEach=True)\n",
    "print(l11)\n",
    "l11=='THEFUTUREISFEMALE'"
   ]
  },
  {
   "cell_type": "markdown",
   "metadata": {},
   "source": [
    "## Line #12"
   ]
  },
  {
   "cell_type": "code",
   "execution_count": 94,
   "metadata": {},
   "outputs": [
    {
     "name": "stdout",
     "output_type": "stream",
     "text": [
      ". . .. ... ..-. . -- .- .-.. . - .... . ..-. ..- - ..- .-\n",
      "EEISFEMALETHEFUTUA\n"
     ]
    },
    {
     "data": {
      "text/plain": [
       "False"
      ]
     },
     "execution_count": 94,
     "metadata": {},
     "output_type": "execute_result"
    }
   ],
   "source": [
    "l12 = getDecoded('. . .. ... ..-. . -- .- .-.. . - .... . ..-. ..- - ..- .-',isPrintEach=True)\n",
    "print(l12)\n",
    "l12=='THEFUTUREISFEMALE'"
   ]
  },
  {
   "cell_type": "markdown",
   "metadata": {},
   "source": [
    "## Line #13"
   ]
  },
  {
   "cell_type": "code",
   "execution_count": 93,
   "metadata": {},
   "outputs": [
    {
     "name": "stdout",
     "output_type": "stream",
     "text": [
      ".-.. . - .... . ..-. ..- - ..- .-. . .. ... ..-. . -- .-\n",
      "LETHEFUTUREISFEMA\n"
     ]
    },
    {
     "data": {
      "text/plain": [
       "False"
      ]
     },
     "execution_count": 93,
     "metadata": {},
     "output_type": "execute_result"
    }
   ],
   "source": [
    "l13 = getDecoded('.-.. . - .... . ..-. ..- - ..- .-. . .. ... ..-. . -- .-',isPrintEach=True)\n",
    "print(l13)\n",
    "l13=='THEFUTUREISFEMALE'"
   ]
  },
  {
   "cell_type": "markdown",
   "metadata": {},
   "source": [
    "## Line #14"
   ]
  },
  {
   "cell_type": "code",
   "execution_count": 92,
   "metadata": {},
   "outputs": [
    {
     "name": "stdout",
     "output_type": "stream",
     "text": [
      "- .... . ..-. ..- - ..- .-. . .. ... ..-. . -- .- .-.. .\n",
      "THEFUTUREISFEMALE\n"
     ]
    },
    {
     "data": {
      "text/plain": [
       "True"
      ]
     },
     "execution_count": 92,
     "metadata": {},
     "output_type": "execute_result"
    }
   ],
   "source": [
    "l14 = getDecoded('- .... . ..-. ..- - ..- .-. . .. ... ..-. . -- .- .-.. .',isPrintEach=True)\n",
    "print(l14)\n",
    "l14=='THEFUTUREISFEMALE'"
   ]
  },
  {
   "cell_type": "markdown",
   "metadata": {},
   "source": [
    "## Line #15"
   ]
  },
  {
   "cell_type": "code",
   "execution_count": 91,
   "metadata": {},
   "outputs": [
    {
     "name": "stdout",
     "output_type": "stream",
     "text": [
      ".. ... ..-. . -- .- .-.. . - .... . ..-. ..- - ..- .-. .\n",
      "ISFEMALETHEFUTURE\n"
     ]
    },
    {
     "data": {
      "text/plain": [
       "False"
      ]
     },
     "execution_count": 91,
     "metadata": {},
     "output_type": "execute_result"
    }
   ],
   "source": [
    "l15 = getDecoded('.. ... ..-. . -- .- .-.. . - .... . ..-. ..- - ..- .-. .',isPrintEach=True)\n",
    "print(l15)\n",
    "l15=='THEFUTUREISFEMALE'"
   ]
  },
  {
   "cell_type": "markdown",
   "metadata": {},
   "source": [
    "## Line #16"
   ]
  },
  {
   "cell_type": "code",
   "execution_count": 90,
   "metadata": {},
   "outputs": [
    {
     "name": "stdout",
     "output_type": "stream",
     "text": [
      "- .... . ..-. ..- - ..- .-. . .. ... ..-. . -- .- .-.. .\n",
      "THEFUTUREISFEMALE\n"
     ]
    },
    {
     "data": {
      "text/plain": [
       "True"
      ]
     },
     "execution_count": 90,
     "metadata": {},
     "output_type": "execute_result"
    }
   ],
   "source": [
    "l16 = getDecoded('- .... . ..-. ..- - ..- .-. . .. ... ..-. . -- .- .-.. .',isPrintEach=True)\n",
    "print(l16)\n",
    "l16=='THEFUTUREISFEMALE'"
   ]
  },
  {
   "cell_type": "markdown",
   "metadata": {},
   "source": [
    "## Line #17"
   ]
  },
  {
   "cell_type": "code",
   "execution_count": 89,
   "metadata": {},
   "outputs": [
    {
     "name": "stdout",
     "output_type": "stream",
     "text": [
      "..-. . -- .- .-.. . - .... . ..-. ..- - ..- .-. . .. ...\n",
      "FEMALETHEFUTUREIS\n"
     ]
    },
    {
     "data": {
      "text/plain": [
       "False"
      ]
     },
     "execution_count": 89,
     "metadata": {},
     "output_type": "execute_result"
    }
   ],
   "source": [
    "l17 = getDecoded('..-. . -- .- .-.. . - .... . ..-. ..- - ..- .-. . .. ...',isPrintEach=True)\n",
    "print(l17)\n",
    "l17=='THEFUTUREISFEMALE'"
   ]
  },
  {
   "cell_type": "markdown",
   "metadata": {},
   "source": [
    "## Line #18"
   ]
  },
  {
   "cell_type": "code",
   "execution_count": 88,
   "metadata": {},
   "outputs": [
    {
     "name": "stdout",
     "output_type": "stream",
     "text": [
      "-- .- .-.. . - .... . ..-. ..- - ..- .-. . .. ... ..-. .\n",
      "MALETHEFUTUREISFE\n"
     ]
    },
    {
     "data": {
      "text/plain": [
       "False"
      ]
     },
     "execution_count": 88,
     "metadata": {},
     "output_type": "execute_result"
    }
   ],
   "source": [
    "l18 = getDecoded('-- .- .-.. . - .... . ..-. ..- - ..- .-. . .. ... ..-. .',isPrintEach=True)\n",
    "print(l18)\n",
    "l18=='THEFUTUREISFEMALE'"
   ]
  },
  {
   "cell_type": "markdown",
   "metadata": {},
   "source": [
    "## Line #19\n"
   ]
  },
  {
   "cell_type": "code",
   "execution_count": 87,
   "metadata": {},
   "outputs": [
    {
     "name": "stdout",
     "output_type": "stream",
     "text": [
      ". ... ..-. . -- .- .-.. . - .... . ..-. ..- - ..- .-. . .\n",
      "ESFEMALETHEFUTUREE\n"
     ]
    },
    {
     "data": {
      "text/plain": [
       "False"
      ]
     },
     "execution_count": 87,
     "metadata": {},
     "output_type": "execute_result"
    }
   ],
   "source": [
    "l19 = getDecoded('. ... ..-. . -- .- .-.. . - .... . ..-. ..- - ..- .-. . .',isPrintEach=True)\n",
    "print(l19)\n",
    "l19=='THEFUTUREISFEMALE'"
   ]
  },
  {
   "cell_type": "markdown",
   "metadata": {},
   "source": [
    "## Line #20"
   ]
  },
  {
   "cell_type": "code",
   "execution_count": 86,
   "metadata": {},
   "outputs": [
    {
     "name": "stdout",
     "output_type": "stream",
     "text": [
      ".-. . -- .- .-.. . - .... . ..-. ..- - ..- .-. . .. ... .\n",
      "REMALETHEFUTUREISE\n"
     ]
    },
    {
     "data": {
      "text/plain": [
       "False"
      ]
     },
     "execution_count": 86,
     "metadata": {},
     "output_type": "execute_result"
    }
   ],
   "source": [
    "l20 = getDecoded('.-. . -- .- .-.. . - .... . ..-. ..- - ..- .-. . .. ... .',isPrintEach=True)\n",
    "print(l20)\n",
    "l20=='THEFUTUREISFEMALE'"
   ]
  },
  {
   "cell_type": "markdown",
   "metadata": {},
   "source": [
    "## Line #21"
   ]
  },
  {
   "cell_type": "code",
   "execution_count": 85,
   "metadata": {},
   "outputs": [
    {
     "name": "stdout",
     "output_type": "stream",
     "text": [
      "-. ..- - ..- .-. . .. ... ..-. . -- .- .-.. . - .... . ..\n",
      "NUTUREISFEMALETHEI\n"
     ]
    },
    {
     "data": {
      "text/plain": [
       "False"
      ]
     },
     "execution_count": 85,
     "metadata": {},
     "output_type": "execute_result"
    }
   ],
   "source": [
    "l21 = getDecoded('-. ..- - ..- .-. . .. ... ..-. . -- .- .-.. . - .... . ..',isPrintEach=True)\n",
    "print(l21)\n",
    "l21=='THEFUTUREISFEMALE'"
   ]
  },
  {
   "cell_type": "markdown",
   "metadata": {},
   "source": [
    "## Line #22"
   ]
  },
  {
   "cell_type": "code",
   "execution_count": 84,
   "metadata": {},
   "outputs": [
    {
     "name": "stdout",
     "output_type": "stream",
     "text": [
      "-. . -- .- .-.. . - .... . ..-. ..- - ..- .-. . .. ... ..\n",
      "NEMALETHEFUTUREISI\n"
     ]
    },
    {
     "data": {
      "text/plain": [
       "False"
      ]
     },
     "execution_count": 84,
     "metadata": {},
     "output_type": "execute_result"
    }
   ],
   "source": [
    "l22 = getDecoded('-. . -- .- .-.. . - .... . ..-. ..- - ..- .-. . .. ... ..',isPrintEach=True)\n",
    "print(l22)\n",
    "l22=='THEFUTUREISFEMALE'"
   ]
  },
  {
   "cell_type": "markdown",
   "metadata": {},
   "source": [
    "## Line #23"
   ]
  },
  {
   "cell_type": "code",
   "execution_count": 83,
   "metadata": {},
   "outputs": [
    {
     "name": "stdout",
     "output_type": "stream",
     "text": [
      "- ..- .-. . .. ... ..-. . --.- .-.. . - .... . ..-. ..-\n",
      "TUREISFEQLETHEFU\n"
     ]
    },
    {
     "data": {
      "text/plain": [
       "False"
      ]
     },
     "execution_count": 83,
     "metadata": {},
     "output_type": "execute_result"
    }
   ],
   "source": [
    "l23 = getDecoded('- ..- .-. . .. ... ..-. . --.- .-.. . - .... . ..-. ..-',isPrintEach=True)\n",
    "print(l23)\n",
    "l23=='THEFUTUREISFEMALE'"
   ]
  },
  {
   "cell_type": "markdown",
   "metadata": {},
   "source": [
    "## Line #24"
   ]
  },
  {
   "cell_type": "code",
   "execution_count": 82,
   "metadata": {},
   "outputs": [
    {
     "name": "stdout",
     "output_type": "stream",
     "text": [
      ". . .. ... ..-. . -- .- .-.. . - .... . ..-. ..- - ..- .-. . .\n",
      "EEISFEMALETHEFUTUREE\n"
     ]
    },
    {
     "data": {
      "text/plain": [
       "False"
      ]
     },
     "execution_count": 82,
     "metadata": {},
     "output_type": "execute_result"
    }
   ],
   "source": [
    "l24 = getDecoded('. . .. ... ..-. . -- .- .-.. . - .... . ..-. ..- - ..- .-. . .',isPrintEach=True)\n",
    "print(l24)\n",
    "l24=='THEFUTUREISFEMALE'"
   ]
  },
  {
   "cell_type": "markdown",
   "metadata": {},
   "source": [
    "## Line #25"
   ]
  },
  {
   "cell_type": "code",
   "execution_count": 70,
   "metadata": {},
   "outputs": [
    {
     "name": "stdout",
     "output_type": "stream",
     "text": [
      ". ... ..-. . -- .- .-.. . - .... . ..-. ..- - ..- .-. . .\n"
     ]
    },
    {
     "data": {
      "text/plain": [
       "False"
      ]
     },
     "execution_count": 70,
     "metadata": {},
     "output_type": "execute_result"
    }
   ],
   "source": [
    "l25 = getDecoded('. ... ..-. . -- .- .-.. . - .... . ..-. ..- - ..- .-. . .',isPrintEach=True)\n",
    "print(l25)\n",
    "l25=='THEFUTUREISFEMALE'"
   ]
  },
  {
   "cell_type": "markdown",
   "metadata": {},
   "source": [
    "## Line #26"
   ]
  },
  {
   "cell_type": "code",
   "execution_count": 81,
   "metadata": {},
   "outputs": [
    {
     "name": "stdout",
     "output_type": "stream",
     "text": [
      ".-. . -- .- .-.. . - .... . ..-. ..- - ..- .-. . .. ... .\n",
      "REMALETHEFUTUREISE\n"
     ]
    },
    {
     "data": {
      "text/plain": [
       "False"
      ]
     },
     "execution_count": 81,
     "metadata": {},
     "output_type": "execute_result"
    }
   ],
   "source": [
    "l26 = getDecoded('.-. . -- .- .-.. . - .... . ..-. ..- - ..- .-. . .. ... .',isPrintEach=True)\n",
    "print(l26)\n",
    "l26=='THEFUTUREISFEMALE'"
   ]
  },
  {
   "cell_type": "markdown",
   "metadata": {},
   "source": [
    "## Line #27\n"
   ]
  },
  {
   "cell_type": "code",
   "execution_count": 80,
   "metadata": {},
   "outputs": [
    {
     "name": "stdout",
     "output_type": "stream",
     "text": [
      "-. ..- - ..- .-. . .. ... ..-. . -- .- .-.. . - .... . ..\n",
      "NUTUREISFEMALETHEI\n"
     ]
    },
    {
     "data": {
      "text/plain": [
       "False"
      ]
     },
     "execution_count": 80,
     "metadata": {},
     "output_type": "execute_result"
    }
   ],
   "source": [
    "l27 = getDecoded('-. ..- - ..- .-. . .. ... ..-. . -- .- .-.. . - .... . ..',isPrintEach=True)\n",
    "print(l27)\n",
    "l27=='THEFUTUREISFEMALE'"
   ]
  },
  {
   "cell_type": "markdown",
   "metadata": {},
   "source": [
    "## Line #28"
   ]
  },
  {
   "cell_type": "code",
   "execution_count": 79,
   "metadata": {},
   "outputs": [
    {
     "name": "stdout",
     "output_type": "stream",
     "text": [
      "-. . -- .- .-.. . - .... . ..-. ..- - ..- .-. . .. ... ..\n",
      "NEMALETHEFUTUREISI\n"
     ]
    },
    {
     "data": {
      "text/plain": [
       "False"
      ]
     },
     "execution_count": 79,
     "metadata": {},
     "output_type": "execute_result"
    }
   ],
   "source": [
    "l28 = getDecoded('-. . -- .- .-.. . - .... . ..-. ..- - ..- .-. . .. ... ..',isPrintEach=True)\n",
    "print(l28)\n",
    "l28=='THEFUTUREISFEMALE'"
   ]
  },
  {
   "cell_type": "markdown",
   "metadata": {},
   "source": [
    "## Line #29"
   ]
  },
  {
   "cell_type": "code",
   "execution_count": 77,
   "metadata": {},
   "outputs": [
    {
     "name": "stdout",
     "output_type": "stream",
     "text": [
      "- ..- .-. . .. ... ..-. . -- .- .-.. . - .... . ..-. ..-\n",
      "TUREISFEMALETHEFU\n"
     ]
    },
    {
     "data": {
      "text/plain": [
       "False"
      ]
     },
     "execution_count": 77,
     "metadata": {},
     "output_type": "execute_result"
    }
   ],
   "source": [
    "l29 = getDecoded('- ..- .-. . .. ... ..-. . -- .- .-.. . - .... . ..-. ..-',isPrintEach=True)\n",
    "print(l29)\n",
    "l29=='THEFUTUREISFEMALE'"
   ]
  },
  {
   "cell_type": "markdown",
   "metadata": {},
   "source": [
    "## Line #30"
   ]
  },
  {
   "cell_type": "code",
   "execution_count": 78,
   "metadata": {},
   "outputs": [
    {
     "name": "stdout",
     "output_type": "stream",
     "text": [
      ". . .. ... ..-. . -- .- .-.. . - .... . ..-. ..- - ..- .-\n",
      "EEISFEMALETHEFUTUA\n"
     ]
    },
    {
     "data": {
      "text/plain": [
       "False"
      ]
     },
     "execution_count": 78,
     "metadata": {},
     "output_type": "execute_result"
    }
   ],
   "source": [
    "l30 = getDecoded('. . .. ... ..-. . -- .- .-.. . - .... . ..-. ..- - ..- .-',isPrintEach=True)\n",
    "print(l30)\n",
    "l30=='THEFUTUREISFEMALE'"
   ]
  },
  {
   "cell_type": "code",
   "execution_count": null,
   "metadata": {},
   "outputs": [],
   "source": []
  }
 ],
 "metadata": {
  "kernelspec": {
   "display_name": "Python 3",
   "language": "python",
   "name": "python3"
  },
  "language_info": {
   "codemirror_mode": {
    "name": "ipython",
    "version": 3
   },
   "file_extension": ".py",
   "mimetype": "text/x-python",
   "name": "python",
   "nbconvert_exporter": "python",
   "pygments_lexer": "ipython3",
   "version": "3.7.0"
  }
 },
 "nbformat": 4,
 "nbformat_minor": 2
}
